{
 "metadata": {
  "name": ""
 },
 "nbformat": 3,
 "nbformat_minor": 0,
 "worksheets": [
  {
   "cells": [
    {
     "cell_type": "code",
     "collapsed": false,
     "input": [
      "cd ~/Desktop/programming/Python/twitter"
     ],
     "language": "python",
     "metadata": {},
     "outputs": [
      {
       "output_type": "stream",
       "stream": "stdout",
       "text": [
        "/home/hollywh/Desktop/programming/Python/twitter\n"
       ]
      }
     ],
     "prompt_number": 1
    },
    {
     "cell_type": "code",
     "collapsed": false,
     "input": [
      "full_term_list = [\"HiltonHotels\", \"HiltonHHonors\", \"HiltonWorldwide\", \"Hilton\", \"Marriott\", \"MarriottIntl\", \"RenHotels\", \"sheratonhotels\", \"spg\", \"westin\", \"whotels\", \"starwood\", \"starwoodbuzz\", \"ihgrewardsclub\", \"HolidayInn\", \"hotelindigo\", \"crowneplaza\", \"hyatttweets\", \"#TravelBrilliantly\", \"#BeAWeekender\", \"#spglife\", \"#RDiscover\", \"#DiscoverIHG\", \"#gotmysweaton\", \"#ineedthatbreak\"]\n",
      "term_string = \", \".join(full_term_list)\n",
      "term_string"
     ],
     "language": "python",
     "metadata": {},
     "outputs": [
      {
       "metadata": {},
       "output_type": "pyout",
       "prompt_number": 2,
       "text": [
        "'HiltonHotels, HiltonHHonors, HiltonWorldwide, Hilton, Marriott, MarriottIntl, RenHotels, sheratonhotels, spg, westin, whotels, starwood, starwoodbuzz, ihgrewardsclub, HolidayInn, hotelindigo, crowneplaza, hyatttweets, #TravelBrilliantly, #BeAWeekender, #spglife, #RDiscover, #DiscoverIHG, #gotmysweaton, #ineedthatbreak'"
       ]
      }
     ],
     "prompt_number": 2
    },
    {
     "cell_type": "code",
     "collapsed": false,
     "input": [
      "full_term_list"
     ],
     "language": "python",
     "metadata": {},
     "outputs": [
      {
       "metadata": {},
       "output_type": "pyout",
       "prompt_number": 5,
       "text": [
        "['hiltonhotels',\n",
        " 'hiltonhhonors',\n",
        " 'hiltonworldwide',\n",
        " 'hilton',\n",
        " 'marriott',\n",
        " 'marriottintl',\n",
        " 'renhotels',\n",
        " 'sheratonhotels',\n",
        " 'spg',\n",
        " 'westin',\n",
        " 'whotels',\n",
        " 'starwood',\n",
        " 'starwoodbuzz',\n",
        " 'ihgrewardsclub',\n",
        " 'holidayinn',\n",
        " 'hotelindigo',\n",
        " 'crowneplaza',\n",
        " 'hyatttweets',\n",
        " '#travelbrilliantly',\n",
        " '#beaweekender',\n",
        " '#spglife',\n",
        " '#rdiscover',\n",
        " '#discoverihg',\n",
        " '#gotmysweaton',\n",
        " '#ineedthatbreak']"
       ]
      }
     ],
     "prompt_number": 5
    },
    {
     "cell_type": "code",
     "collapsed": false,
     "input": [
      "# Text of twitter capture file - updated 20 Apr 14, keys and secrets removed\n",
      "\n",
      "#!/usr/bin/env python\n",
      "\n",
      "from TwitterAPI import TwitterAPI\n",
      "import time\n",
      "\n",
      "consumer_key = \n",
      "consumer_secret = \n",
      "access_token_key = \n",
      "access_token_secret = \n",
      "\n",
      "file_location = \"output_follow.txt\"\n",
      "\n",
      "# create new iterations by using term_string above\n",
      "FOLLOW_TERM = \"HiltonHotels, HiltonHHonors, HiltonWorldwide, Hilton, Marriott, MarriottIntl, RenHotels, sheratonhotels, spg, westin, whotels, ihgrewardsclub, HolidayInn, hotelindigo, crowneplaza, hyatttweets, #TravelBrilliantly, #BeAWeekender, #spglife, #RDiscover, #DiscoverIHG, #gotmysweaton, #ineedthatbreak\" \n",
      "#FOLLOW_TERM = term_string\n",
      "\n",
      "delay = 8 # seconds\n",
      "\n",
      "while True:\n",
      "    try:\n",
      "        api = TwitterAPI(consumer_key, consumer_secret,\n",
      "                         access_token_key, access_token_secret)\n",
      "        r = api.request('statuses/filter', {'track':FOLLOW_TERM})\n",
      "        with open(file_location, \"a\") as output:\n",
      "            for item in r.get_iterator():\n",
      "                output.write(str(item) + \"\\n\")\n",
      "                #print(item['text'] if 'text' in item else item)\n",
      "            delay = max(8, delay/2)\n",
      "    except:\n",
      "        print \"Error\"\n",
      "        print time.ctime()\n",
      "        print \"Waiting \" + str(delay) + \" seconds\"\n",
      "        time.sleep(delay)\n",
      "        delay *= 2"
     ],
     "language": "python",
     "metadata": {},
     "outputs": []
    },
    {
     "cell_type": "code",
     "collapsed": false,
     "input": [
      "# Following code extracts a few relevant data fields out of the Twitter Streaming API\n",
      "# Create as individual lists then lump into a dict and create as a dataframe\n",
      "\n",
      "import pandas\n",
      "import re\n",
      "\n",
      "filename = \"output_follow_Apr20_to_May3.txt\"\n",
      "full_term_list = [term.lower() for term in full_term_list]\n",
      "\n",
      "fp = open(filename)\n",
      "count = 0\n",
      "users = []\n",
      "created = []\n",
      "text = []\n",
      "#retweets = []       # remove retweets and favorite - does not exist at time of stream\n",
      "hashtags = []\n",
      "tweetid = []\n",
      "#favorite = []\n",
      "list_of_term_list = []\n",
      "\n",
      "error_lines = []\n",
      "\n",
      "for ii in range(270000):     \n",
      "  line = fp.readline()    # each tweet is a line\n",
      "  try:\n",
      "      line = eval(line)     # and now each line is a dict\n",
      "      if line['lang'] == 'en':   # select only english labeled texts\n",
      "        users.append(line['user']['screen_name'].lower())   # and start creating vectors (will dataframe in a bit)\n",
      "        created.append(line['created_at'])\n",
      "        text.append(re.sub(',',' ', line['text']).lower())    # replace commas with spaces for csv output\n",
      "        #retweets.append(line['retweet_count'])  \n",
      "        tweetid.append(line['id'])\n",
      "        #favorite.append(line['favorite_count'])\n",
      "        count += 1\n",
      "    \n",
      "        # May be multiple hashtags in the tweet - capture all in a space separated string\n",
      "        tag_list = ''\n",
      "        for tag in line['entities']['hashtags']:\n",
      "            tag_list += tag['text'].lower() + \" \"   \n",
      "        hashtags.append(tag_list) \n",
      "    \n",
      "        # Similarly may be multiple terms - search text and user for items in term_list    \n",
      "        term_list = \"\"\n",
      "        for term in full_term_list:\n",
      "            if line['text'].lower().find(term) >=0 or line['user']['screen_name'].lower().find(term) >= 0:\n",
      "                term_list += term + \" \"\n",
      "        list_of_term_list.append(term_list)\n",
      "        \n",
      "  except:\n",
      "        error_lines.append(ii)\n",
      "     \n",
      "# now make the dataframe by creating a dict and then using pandas.DataFrame to convert\n",
      "#data = {'id':tweetid, 'user':users, 'text':text, 'terms':list_of_term_list, 'hashtags':hashtags, 'created':created, 'retweets':retweets, 'favorites':favorite} \n",
      "data = {'id':tweetid, 'user':users, 'text':text, 'terms':list_of_term_list, 'hashtags':hashtags, 'created':created} \n",
      "\n",
      "tweet_df = pandas.DataFrame(data)  \n"
     ],
     "language": "python",
     "metadata": {},
     "outputs": [],
     "prompt_number": 3
    },
    {
     "cell_type": "code",
     "collapsed": false,
     "input": [
      "full_term_list\n",
      "brand_labels=['hilton','hilton','hilton','hilton','marriott','marriott','marriott','starwood','starwood','starppd"
     ],
     "language": "python",
     "metadata": {},
     "outputs": [
      {
       "metadata": {},
       "output_type": "pyout",
       "prompt_number": 6,
       "text": [
        "['hiltonhotels',\n",
        " 'hiltonhhonors',\n",
        " 'hiltonworldwide',\n",
        " 'hilton',\n",
        " 'marriott',\n",
        " 'marriottintl',\n",
        " 'renhotels',\n",
        " 'sheratonhotels',\n",
        " 'spg',\n",
        " 'westin',\n",
        " 'whotels',\n",
        " 'starwood',\n",
        " 'starwoodbuzz',\n",
        " 'ihgrewardsclub',\n",
        " 'holidayinn',\n",
        " 'hotelindigo',\n",
        " 'crowneplaza',\n",
        " 'hyatttweets',\n",
        " '#travelbrilliantly',\n",
        " '#beaweekender',\n",
        " '#spglife',\n",
        " '#rdiscover',\n",
        " '#discoverihg',\n",
        " '#gotmysweaton',\n",
        " '#ineedthatbreak']"
       ]
      }
     ],
     "prompt_number": 6
    },
    {
     "cell_type": "code",
     "collapsed": false,
     "input": [
      "tweet_df.to_csv('csvout.csv', encoding='utf-8')"
     ],
     "language": "python",
     "metadata": {},
     "outputs": [],
     "prompt_number": 4
    }
   ],
   "metadata": {}
  }
 ]
}